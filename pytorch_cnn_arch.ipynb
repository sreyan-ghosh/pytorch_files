{
  "nbformat": 4,
  "nbformat_minor": 0,
  "metadata": {
    "colab": {
      "name": "pytorch_cnn_arch.ipynb",
      "provenance": [],
      "collapsed_sections": [
        "pZWHk1TJlMAp",
        "IYKXKON4lOBD"
      ]
    },
    "kernelspec": {
      "name": "python3",
      "display_name": "Python 3"
    },
    "accelerator": "GPU"
  },
  "cells": [
    {
      "cell_type": "markdown",
      "metadata": {
        "id": "pZWHk1TJlMAp",
        "colab_type": "text"
      },
      "source": [
        "# Setup"
      ]
    },
    {
      "cell_type": "code",
      "metadata": {
        "id": "_mG8DQGlSeyE",
        "colab_type": "code",
        "colab": {}
      },
      "source": [
        "import torch\n",
        "import numpy as np\n",
        "import matplotlib.pyplot as plt\n",
        "import copy\n",
        "import torchvision\n",
        "import torchvision.transforms as transforms\n",
        "import torch.nn as nn\n",
        "import torch.optim as optim\n",
        "\n",
        "from tqdm.notebook import tqdm"
      ],
      "execution_count": 0,
      "outputs": []
    },
    {
      "cell_type": "code",
      "metadata": {
        "id": "85YK7RLwjyog",
        "colab_type": "code",
        "colab": {
          "base_uri": "https://localhost:8080/",
          "height": 0
        },
        "outputId": "5051f92d-9760-4934-ee77-52b839a678d2"
      },
      "source": [
        "device = torch.device('cuda:0' if torch.cuda.is_available() else 'cpu')\n",
        "print(device)"
      ],
      "execution_count": 2,
      "outputs": [
        {
          "output_type": "stream",
          "text": [
            "cuda:0\n"
          ],
          "name": "stdout"
        }
      ]
    },
    {
      "cell_type": "code",
      "metadata": {
        "id": "Iuo5PWfMxN6q",
        "colab_type": "code",
        "colab": {
          "base_uri": "https://localhost:8080/",
          "height": 0
        },
        "outputId": "bcc104af-729d-4b05-ff9e-2c925c310c78"
      },
      "source": [
        "if torch.cuda.is_available():\n",
        "    print(torch.cuda.get_device_name(0))\n",
        "else:\n",
        "    print('Runtime is not GPU accelerated')"
      ],
      "execution_count": 3,
      "outputs": [
        {
          "output_type": "stream",
          "text": [
            "Tesla T4\n"
          ],
          "name": "stdout"
        }
      ]
    },
    {
      "cell_type": "markdown",
      "metadata": {
        "id": "IYKXKON4lOBD",
        "colab_type": "text"
      },
      "source": [
        "# Loading Dataset"
      ]
    },
    {
      "cell_type": "code",
      "metadata": {
        "id": "gsTfxrxlj4JV",
        "colab_type": "code",
        "colab": {}
      },
      "source": [
        "transforms_train = transforms.Compose([\n",
        "    transforms.RandomResizedCrop(224),\n",
        "    transforms.ToTensor(),\n",
        "    transforms.Normalize((0.5,0.5,0.5), (0.5,0.5,0.5))\n",
        "])\n",
        "\n",
        "transforms_test = transforms.Compose([\n",
        "    transforms.RandomResizedCrop(224),\n",
        "    transforms.ToTensor(),\n",
        "    transforms.Normalize((0.5,0.5,0.5), (0.5,0.5,0.5))\n",
        "])"
      ],
      "execution_count": 0,
      "outputs": []
    },
    {
      "cell_type": "code",
      "metadata": {
        "id": "5-AKsRZnmGZN",
        "colab_type": "code",
        "colab": {
          "base_uri": "https://localhost:8080/",
          "height": 51
        },
        "outputId": "e42e53ed-8ab7-405f-f4ba-c29754e9d0f7"
      },
      "source": [
        "trainset = torchvision.datasets.CIFAR10(root='./data', train=True, download=True, transform=transforms_train)\n",
        "testset = torchvision.datasets.CIFAR10(root='./data', train=False, download=True, transform=transforms_test)"
      ],
      "execution_count": 5,
      "outputs": [
        {
          "output_type": "stream",
          "text": [
            "Files already downloaded and verified\n",
            "Files already downloaded and verified\n"
          ],
          "name": "stdout"
        }
      ]
    },
    {
      "cell_type": "code",
      "metadata": {
        "id": "HjuZaWbymhL7",
        "colab_type": "code",
        "colab": {}
      },
      "source": [
        "num_classes = 10\n",
        "batch_size = 4\n",
        "trainloader = torch.utils.data.DataLoader(trainset, batch_size=batch_size, shuffle=True)"
      ],
      "execution_count": 0,
      "outputs": []
    },
    {
      "cell_type": "code",
      "metadata": {
        "id": "MhuwXKv2m4z7",
        "colab_type": "code",
        "colab": {
          "base_uri": "https://localhost:8080/",
          "height": 68
        },
        "outputId": "76a541d2-f095-4f36-e764-8ec33a0aab55"
      },
      "source": [
        "dataiter =  iter(trainloader)\n",
        "images, labels = dataiter.next()\n",
        "\n",
        "print(images.shape)\n",
        "\n",
        "print(images[1].shape)\n",
        "print(labels[1].item())"
      ],
      "execution_count": 7,
      "outputs": [
        {
          "output_type": "stream",
          "text": [
            "torch.Size([4, 3, 224, 224])\n",
            "torch.Size([3, 224, 224])\n",
            "1\n"
          ],
          "name": "stdout"
        }
      ]
    },
    {
      "cell_type": "code",
      "metadata": {
        "id": "CJes4MlQnG7p",
        "colab_type": "code",
        "colab": {}
      },
      "source": [
        "def imshow(img, title):\n",
        "    npimg = img.numpy() *0.5 + 0.5\n",
        "    npimg = np.transpose(npimg, (1,2,0))\n",
        "    plt.figure(figsize=(batch_size, 1))\n",
        "    plt.axis('off')\n",
        "    plt.imshow(npimg)\n",
        "    plt.title(title)\n",
        "    plt.show()"
      ],
      "execution_count": 0,
      "outputs": []
    },
    {
      "cell_type": "code",
      "metadata": {
        "id": "jIYjBQcunnKw",
        "colab_type": "code",
        "colab": {}
      },
      "source": [
        "def show_batch_images(dataloader):\n",
        "    images, labels = next(iter(dataloader))\n",
        "    img = torchvision.utils.make_grid(images)\n",
        "    title = [str(x.item()) for x in labels]\n",
        "    imshow(img, title)"
      ],
      "execution_count": 0,
      "outputs": []
    },
    {
      "cell_type": "code",
      "metadata": {
        "id": "2Dw3LCU2ocww",
        "colab_type": "code",
        "colab": {
          "base_uri": "https://localhost:8080/",
          "height": 353
        },
        "outputId": "60683215-6e14-4679-dedb-a6a950cfedd4"
      },
      "source": [
        "for i in range(batch_size):\n",
        "    show_batch_images(trainloader)"
      ],
      "execution_count": 10,
      "outputs": [
        {
          "output_type": "display_data",
          "data": {
            "image/png": "[encoded data removed]",
            "text/plain": [
              "<Figure size 288x72 with 1 Axes>"
            ]
          },
          "metadata": {
            "tags": [],
            "needs_background": "light"
          }
        },
        {
          "output_type": "display_data",
          "data": {
            "image/png": "[encoded data removed]",
            "text/plain": [
              "<Figure size 288x72 with 1 Axes>"
            ]
          },
          "metadata": {
            "tags": [],
            "needs_background": "light"
          }
        },
        {
          "output_type": "display_data",
          "data": {
            "image/png": "[encoded data removed]",
            "text/plain": [
              "<Figure size 288x72 with 1 Axes>"
            ]
          },
          "metadata": {
            "tags": [],
            "needs_background": "light"
          }
        },
        {
          "output_type": "display_data",
          "data": {
            "image/png": "[encoded data removed]",
            "text/plain": [
              "<Figure size 288x72 with 1 Axes>"
            ]
          },
          "metadata": {
            "tags": [],
            "needs_background": "light"
          }
        }
      ]
    },
    {
      "cell_type": "markdown",
      "metadata": {
        "id": "qvD3oVYkpKHw",
        "colab_type": "text"
      },
      "source": [
        "# VGG16"
      ]
    },
    {
      "cell_type": "code",
      "metadata": {
        "id": "5YU7MyOJojEL",
        "colab_type": "code",
        "colab": {}
      },
      "source": [
        "from torchvision import models"
      ],
      "execution_count": 0,
      "outputs": []
    },
    {
      "cell_type": "code",
      "metadata": {
        "id": "khRHKt63yfsS",
        "colab_type": "code",
        "colab": {}
      },
      "source": [
        "vgg = models.vgg16_bn(pretrained=True)"
      ],
      "execution_count": 0,
      "outputs": []
    },
    {
      "cell_type": "code",
      "metadata": {
        "id": "yS-ybkD4yoGc",
        "colab_type": "code",
        "colab": {
          "base_uri": "https://localhost:8080/",
          "height": 1000
        },
        "outputId": "7a9a93df-3a9f-4574-d84d-d8c132ac93a3"
      },
      "source": [
        "print(vgg)"
      ],
      "execution_count": 13,
      "outputs": [
        {
          "output_type": "stream",
          "text": [
            "VGG(\n",
            "  (features): Sequential(\n",
            "    (0): Conv2d(3, 64, kernel_size=(3, 3), stride=(1, 1), padding=(1, 1))\n",
            "    (1): BatchNorm2d(64, eps=1e-05, momentum=0.1, affine=True, track_running_stats=True)\n",
            "    (2): ReLU(inplace=True)\n",
            "    (3): Conv2d(64, 64, kernel_size=(3, 3), stride=(1, 1), padding=(1, 1))\n",
            "    (4): BatchNorm2d(64, eps=1e-05, momentum=0.1, affine=True, track_running_stats=True)\n",
            "    (5): ReLU(inplace=True)\n",
            "    (6): MaxPool2d(kernel_size=2, stride=2, padding=0, dilation=1, ceil_mode=False)\n",
            "    (7): Conv2d(64, 128, kernel_size=(3, 3), stride=(1, 1), padding=(1, 1))\n",
            "    (8): BatchNorm2d(128, eps=1e-05, momentum=0.1, affine=True, track_running_stats=True)\n",
            "    (9): ReLU(inplace=True)\n",
            "    (10): Conv2d(128, 128, kernel_size=(3, 3), stride=(1, 1), padding=(1, 1))\n",
            "    (11): BatchNorm2d(128, eps=1e-05, momentum=0.1, affine=True, track_running_stats=True)\n",
            "    (12): ReLU(inplace=True)\n",
            "    (13): MaxPool2d(kernel_size=2, stride=2, padding=0, dilation=1, ceil_mode=False)\n",
            "    (14): Conv2d(128, 256, kernel_size=(3, 3), stride=(1, 1), padding=(1, 1))\n",
            "    (15): BatchNorm2d(256, eps=1e-05, momentum=0.1, affine=True, track_running_stats=True)\n",
            "    (16): ReLU(inplace=True)\n",
            "    (17): Conv2d(256, 256, kernel_size=(3, 3), stride=(1, 1), padding=(1, 1))\n",
            "    (18): BatchNorm2d(256, eps=1e-05, momentum=0.1, affine=True, track_running_stats=True)\n",
            "    (19): ReLU(inplace=True)\n",
            "    (20): Conv2d(256, 256, kernel_size=(3, 3), stride=(1, 1), padding=(1, 1))\n",
            "    (21): BatchNorm2d(256, eps=1e-05, momentum=0.1, affine=True, track_running_stats=True)\n",
            "    (22): ReLU(inplace=True)\n",
            "    (23): MaxPool2d(kernel_size=2, stride=2, padding=0, dilation=1, ceil_mode=False)\n",
            "    (24): Conv2d(256, 512, kernel_size=(3, 3), stride=(1, 1), padding=(1, 1))\n",
            "    (25): BatchNorm2d(512, eps=1e-05, momentum=0.1, affine=True, track_running_stats=True)\n",
            "    (26): ReLU(inplace=True)\n",
            "    (27): Conv2d(512, 512, kernel_size=(3, 3), stride=(1, 1), padding=(1, 1))\n",
            "    (28): BatchNorm2d(512, eps=1e-05, momentum=0.1, affine=True, track_running_stats=True)\n",
            "    (29): ReLU(inplace=True)\n",
            "    (30): Conv2d(512, 512, kernel_size=(3, 3), stride=(1, 1), padding=(1, 1))\n",
            "    (31): BatchNorm2d(512, eps=1e-05, momentum=0.1, affine=True, track_running_stats=True)\n",
            "    (32): ReLU(inplace=True)\n",
            "    (33): MaxPool2d(kernel_size=2, stride=2, padding=0, dilation=1, ceil_mode=False)\n",
            "    (34): Conv2d(512, 512, kernel_size=(3, 3), stride=(1, 1), padding=(1, 1))\n",
            "    (35): BatchNorm2d(512, eps=1e-05, momentum=0.1, affine=True, track_running_stats=True)\n",
            "    (36): ReLU(inplace=True)\n",
            "    (37): Conv2d(512, 512, kernel_size=(3, 3), stride=(1, 1), padding=(1, 1))\n",
            "    (38): BatchNorm2d(512, eps=1e-05, momentum=0.1, affine=True, track_running_stats=True)\n",
            "    (39): ReLU(inplace=True)\n",
            "    (40): Conv2d(512, 512, kernel_size=(3, 3), stride=(1, 1), padding=(1, 1))\n",
            "    (41): BatchNorm2d(512, eps=1e-05, momentum=0.1, affine=True, track_running_stats=True)\n",
            "    (42): ReLU(inplace=True)\n",
            "    (43): MaxPool2d(kernel_size=2, stride=2, padding=0, dilation=1, ceil_mode=False)\n",
            "  )\n",
            "  (avgpool): AdaptiveAvgPool2d(output_size=(7, 7))\n",
            "  (classifier): Sequential(\n",
            "    (0): Linear(in_features=25088, out_features=4096, bias=True)\n",
            "    (1): ReLU(inplace=True)\n",
            "    (2): Dropout(p=0.5, inplace=False)\n",
            "    (3): Linear(in_features=4096, out_features=4096, bias=True)\n",
            "    (4): ReLU(inplace=True)\n",
            "    (5): Dropout(p=0.5, inplace=False)\n",
            "    (6): Linear(in_features=4096, out_features=1000, bias=True)\n",
            "  )\n",
            ")\n"
          ],
          "name": "stdout"
        }
      ]
    },
    {
      "cell_type": "code",
      "metadata": {
        "id": "CKu7XXbGyqJs",
        "colab_type": "code",
        "colab": {
          "base_uri": "https://localhost:8080/",
          "height": 34
        },
        "outputId": "f1db20bc-48db-435c-96ca-d480e6558fa3"
      },
      "source": [
        "print(vgg.classifier[6])"
      ],
      "execution_count": 14,
      "outputs": [
        {
          "output_type": "stream",
          "text": [
            "Linear(in_features=4096, out_features=1000, bias=True)\n"
          ],
          "name": "stdout"
        }
      ]
    },
    {
      "cell_type": "code",
      "metadata": {
        "id": "ekasPzqVytuH",
        "colab_type": "code",
        "colab": {
          "base_uri": "https://localhost:8080/",
          "height": 54
        },
        "outputId": "5a704084-f9a8-4b7f-eac5-74bbf952150f"
      },
      "source": [
        "\"\"\"final_in_features = vgg.classifier[6].in_features\n",
        "mod_classifier = list(vgg.classifier.children())[:-1]\n",
        "mod_classifier.extend([nn.Linear(final_in_features, num_classes)]) \n",
        "print(mod_classifier)\n",
        "\n",
        "vgg.classifier = nn.Sequential(*mod_classifier)\"\"\" "
      ],
      "execution_count": 15,
      "outputs": [
        {
          "output_type": "execute_result",
          "data": {
            "text/plain": [
              "'final_in_features = vgg.classifier[6].in_features\\nmod_classifier = list(vgg.classifier.children())[:-1]\\nmod_classifier.extend([nn.Linear(final_in_features, num_classes)]) \\nprint(mod_classifier)\\n\\nvgg.classifier = nn.Sequential(*mod_classifier)'"
            ]
          },
          "metadata": {
            "tags": []
          },
          "execution_count": 15
        }
      ]
    },
    {
      "cell_type": "code",
      "metadata": {
        "id": "RryJNpYT63em",
        "colab_type": "code",
        "colab": {}
      },
      "source": [
        "for param in vgg.parameters():\n",
        "    param.requires_grad = False"
      ],
      "execution_count": 0,
      "outputs": []
    },
    {
      "cell_type": "code",
      "metadata": {
        "id": "DsF37eVe673O",
        "colab_type": "code",
        "colab": {}
      },
      "source": [
        "final_in_features = vgg.classifier[6].in_features               # the commented portion might also be used instead of these\n",
        "vgg.classifier[6] = nn.Linear(final_in_features, num_classes) # the commented portion might also be used instead of these"
      ],
      "execution_count": 0,
      "outputs": []
    },
    {
      "cell_type": "code",
      "metadata": {
        "id": "EWKZEeSVzLDX",
        "colab_type": "code",
        "colab": {}
      },
      "source": [
        "batch_size = 16\n",
        "\n",
        "trainloader = torch.utils.data.DataLoader(trainset, batch_size=batch_size, shuffle=True)\n",
        "testloader = torch.utils.data.DataLoader(testset, batch_size=batch_size, shuffle=False)"
      ],
      "execution_count": 0,
      "outputs": []
    },
    {
      "cell_type": "code",
      "metadata": {
        "id": "61b9NWM01TV6",
        "colab_type": "code",
        "colab": {
          "base_uri": "https://localhost:8080/",
          "height": 51
        },
        "outputId": "479b3f94-fa69-4c04-d144-f4e3be8fe97f"
      },
      "source": [
        "for param in vgg.parameters():\n",
        "    if param.requires_grad:\n",
        "        print(param.shape)"
      ],
      "execution_count": 19,
      "outputs": [
        {
          "output_type": "stream",
          "text": [
            "torch.Size([10, 4096])\n",
            "torch.Size([10])\n"
          ],
          "name": "stdout"
        }
      ]
    },
    {
      "cell_type": "code",
      "metadata": {
        "id": "q4fx0rMa5M3H",
        "colab_type": "code",
        "colab": {}
      },
      "source": [
        "def evaluation(dataloader, model):\n",
        "    total, correct = 0,0\n",
        "    for data in dataloader:\n",
        "        inputs, labels = data\n",
        "        inputs, labels = inputs.to(device), labels.to(device)\n",
        "        outputs = model(inputs)\n",
        "        _, pred = torch.max(outputs.data, 1)\n",
        "        total += labels.size(0)\n",
        "        correct += (pred == labels).sum().item()\n",
        "    return 100 * correct/total"
      ],
      "execution_count": 0,
      "outputs": []
    },
    {
      "cell_type": "code",
      "metadata": {
        "id": "xX2Aw6Ks1eZB",
        "colab_type": "code",
        "colab": {}
      },
      "source": [
        "vgg = vgg.to(device)\n",
        "loss_fn = nn.CrossEntropyLoss()\n",
        "opt = optim.SGD(vgg.parameters(), lr=0.05)"
      ],
      "execution_count": 0,
      "outputs": []
    },
    {
      "cell_type": "code",
      "metadata": {
        "id": "txYNlxkF1tWH",
        "colab_type": "code",
        "colab": {
          "base_uri": "https://localhost:8080/",
          "height": 816
        },
        "outputId": "fb7de686-80cf-4bef-d62d-1b5214da9842"
      },
      "source": [
        "loss_epoch_arr = []\n",
        "epochs = 1\n",
        "n_iters = np.ceil(50000/batch_size)\n",
        "min_loss = 100\n",
        "\n",
        "for epoch in range(epochs):\n",
        "    for i, data in enumerate(trainloader, 0):\n",
        "\n",
        "        inputs, labels = data\n",
        "        inputs, labels = inputs.to(device), labels.to(device)\n",
        "\n",
        "        opt.zero_grad()\n",
        "\n",
        "        outputs = vgg(inputs)\n",
        "        loss = loss_fn(outputs, labels)\n",
        "        loss.backward()\n",
        "        opt.step()\n",
        "\n",
        "        if min_loss > loss.item():\n",
        "            min_loss = loss.item()\n",
        "            best_model = copy.deepcopy(vgg.state_dict())\n",
        "            print('Min Loss Now: {}'.format(min_loss))\n",
        "\n",
        "        if i%100 == 0:\n",
        "            print('Iteration: {}/{}, Loss: {}'.format(i, n_iters, loss.item()))\n",
        "\n",
        "        del inputs, labels, outputs\n",
        "        torch.cuda.empty_cache()\n",
        "    \n",
        "    loss_epoch_arr.append(loss.item())"
      ],
      "execution_count": 22,
      "outputs": [
        {
          "output_type": "stream",
          "text": [
            "Min Loss Now: 2.291048049926758\n",
            "Iteration: 0/3125.0, Loss: 2.291048049926758\n",
            "Min Loss Now: 2.2503745555877686\n",
            "Min Loss Now: 2.1520118713378906\n",
            "Min Loss Now: 1.9670922756195068\n",
            "Min Loss Now: 1.8084394931793213\n",
            "Min Loss Now: 1.6173394918441772\n",
            "Min Loss Now: 1.6071810722351074\n",
            "Min Loss Now: 1.5437610149383545\n",
            "Min Loss Now: 1.5230237245559692\n",
            "Min Loss Now: 1.344827651977539\n",
            "Min Loss Now: 1.1764659881591797\n",
            "Iteration: 100/3125.0, Loss: 2.119358539581299\n",
            "Min Loss Now: 1.0842082500457764\n",
            "Iteration: 200/3125.0, Loss: 1.472861409187317\n",
            "Iteration: 300/3125.0, Loss: 1.8413258790969849\n",
            "Min Loss Now: 0.8450404405593872\n",
            "Iteration: 400/3125.0, Loss: 1.430083990097046\n",
            "Iteration: 500/3125.0, Loss: 1.269059419631958\n",
            "Min Loss Now: 0.607825756072998\n",
            "Iteration: 600/3125.0, Loss: 1.7317081689834595\n",
            "Iteration: 700/3125.0, Loss: 1.635197639465332\n",
            "Iteration: 800/3125.0, Loss: 1.2464851140975952\n",
            "Iteration: 900/3125.0, Loss: 2.008650541305542\n",
            "Iteration: 1000/3125.0, Loss: 2.3378424644470215\n",
            "Iteration: 1100/3125.0, Loss: 2.5736913681030273\n",
            "Iteration: 1200/3125.0, Loss: 1.5264445543289185\n",
            "Iteration: 1300/3125.0, Loss: 1.7523804903030396\n",
            "Iteration: 1400/3125.0, Loss: 1.2149529457092285\n",
            "Iteration: 1500/3125.0, Loss: 1.4361674785614014\n",
            "Iteration: 1600/3125.0, Loss: 2.00778865814209\n",
            "Min Loss Now: 0.5438425540924072\n",
            "Iteration: 1700/3125.0, Loss: 2.5241763591766357\n",
            "Iteration: 1800/3125.0, Loss: 2.6378536224365234\n",
            "Iteration: 1900/3125.0, Loss: 2.6079890727996826\n",
            "Iteration: 2000/3125.0, Loss: 1.8654112815856934\n",
            "Iteration: 2100/3125.0, Loss: 1.7522954940795898\n",
            "Iteration: 2200/3125.0, Loss: 2.376713514328003\n",
            "Iteration: 2300/3125.0, Loss: 2.789273977279663\n",
            "Iteration: 2400/3125.0, Loss: 1.032167911529541\n",
            "Iteration: 2500/3125.0, Loss: 3.8551266193389893\n",
            "Iteration: 2600/3125.0, Loss: 2.4433720111846924\n",
            "Iteration: 2700/3125.0, Loss: 1.5208766460418701\n",
            "Iteration: 2800/3125.0, Loss: 1.927244782447815\n",
            "Iteration: 2900/3125.0, Loss: 3.2672624588012695\n",
            "Iteration: 3000/3125.0, Loss: 2.0877060890197754\n",
            "Iteration: 3100/3125.0, Loss: 1.207411766052246\n"
          ],
          "name": "stdout"
        }
      ]
    },
    {
      "cell_type": "code",
      "metadata": {
        "id": "OB8qEOFw4ziC",
        "colab_type": "code",
        "colab": {
          "base_uri": "https://localhost:8080/",
          "height": 34
        },
        "outputId": "6100a601-e391-41ef-a693-f10c25d6a38e"
      },
      "source": [
        "vgg.load_state_dict(best_model)\n",
        "print('Train Acc: {}, Test Acc: {}'.format(evaluation(trainloader, vgg), evaluation(testloader, vgg)))"
      ],
      "execution_count": 23,
      "outputs": [
        {
          "output_type": "stream",
          "text": [
            "Train Acc: 46.318, Test Acc: 45.92\n"
          ],
          "name": "stdout"
        }
      ]
    },
    {
      "cell_type": "markdown",
      "metadata": {
        "id": "aVzfUMYJEinR",
        "colab_type": "text"
      },
      "source": [
        "# ResNet"
      ]
    },
    {
      "cell_type": "code",
      "metadata": {
        "id": "4QR2_19n7Ogm",
        "colab_type": "code",
        "colab": {}
      },
      "source": [
        "resnet = models.resnet18(pretrained=True)"
      ],
      "execution_count": 0,
      "outputs": []
    },
    {
      "cell_type": "code",
      "metadata": {
        "id": "kxNKUGz4BqEn",
        "colab_type": "code",
        "colab": {
          "base_uri": "https://localhost:8080/",
          "height": 1000
        },
        "outputId": "92329026-9f36-4376-9551-3ef3c1c2daee"
      },
      "source": [
        "print(resnet)"
      ],
      "execution_count": 25,
      "outputs": [
        {
          "output_type": "stream",
          "text": [
            "ResNet(\n",
            "  (conv1): Conv2d(3, 64, kernel_size=(7, 7), stride=(2, 2), padding=(3, 3), bias=False)\n",
            "  (bn1): BatchNorm2d(64, eps=1e-05, momentum=0.1, affine=True, track_running_stats=True)\n",
            "  (relu): ReLU(inplace=True)\n",
            "  (maxpool): MaxPool2d(kernel_size=3, stride=2, padding=1, dilation=1, ceil_mode=False)\n",
            "  (layer1): Sequential(\n",
            "    (0): BasicBlock(\n",
            "      (conv1): Conv2d(64, 64, kernel_size=(3, 3), stride=(1, 1), padding=(1, 1), bias=False)\n",
            "      (bn1): BatchNorm2d(64, eps=1e-05, momentum=0.1, affine=True, track_running_stats=True)\n",
            "      (relu): ReLU(inplace=True)\n",
            "      (conv2): Conv2d(64, 64, kernel_size=(3, 3), stride=(1, 1), padding=(1, 1), bias=False)\n",
            "      (bn2): BatchNorm2d(64, eps=1e-05, momentum=0.1, affine=True, track_running_stats=True)\n",
            "    )\n",
            "    (1): BasicBlock(\n",
            "      (conv1): Conv2d(64, 64, kernel_size=(3, 3), stride=(1, 1), padding=(1, 1), bias=False)\n",
            "      (bn1): BatchNorm2d(64, eps=1e-05, momentum=0.1, affine=True, track_running_stats=True)\n",
            "      (relu): ReLU(inplace=True)\n",
            "      (conv2): Conv2d(64, 64, kernel_size=(3, 3), stride=(1, 1), padding=(1, 1), bias=False)\n",
            "      (bn2): BatchNorm2d(64, eps=1e-05, momentum=0.1, affine=True, track_running_stats=True)\n",
            "    )\n",
            "  )\n",
            "  (layer2): Sequential(\n",
            "    (0): BasicBlock(\n",
            "      (conv1): Conv2d(64, 128, kernel_size=(3, 3), stride=(2, 2), padding=(1, 1), bias=False)\n",
            "      (bn1): BatchNorm2d(128, eps=1e-05, momentum=0.1, affine=True, track_running_stats=True)\n",
            "      (relu): ReLU(inplace=True)\n",
            "      (conv2): Conv2d(128, 128, kernel_size=(3, 3), stride=(1, 1), padding=(1, 1), bias=False)\n",
            "      (bn2): BatchNorm2d(128, eps=1e-05, momentum=0.1, affine=True, track_running_stats=True)\n",
            "      (downsample): Sequential(\n",
            "        (0): Conv2d(64, 128, kernel_size=(1, 1), stride=(2, 2), bias=False)\n",
            "        (1): BatchNorm2d(128, eps=1e-05, momentum=0.1, affine=True, track_running_stats=True)\n",
            "      )\n",
            "    )\n",
            "    (1): BasicBlock(\n",
            "      (conv1): Conv2d(128, 128, kernel_size=(3, 3), stride=(1, 1), padding=(1, 1), bias=False)\n",
            "      (bn1): BatchNorm2d(128, eps=1e-05, momentum=0.1, affine=True, track_running_stats=True)\n",
            "      (relu): ReLU(inplace=True)\n",
            "      (conv2): Conv2d(128, 128, kernel_size=(3, 3), stride=(1, 1), padding=(1, 1), bias=False)\n",
            "      (bn2): BatchNorm2d(128, eps=1e-05, momentum=0.1, affine=True, track_running_stats=True)\n",
            "    )\n",
            "  )\n",
            "  (layer3): Sequential(\n",
            "    (0): BasicBlock(\n",
            "      (conv1): Conv2d(128, 256, kernel_size=(3, 3), stride=(2, 2), padding=(1, 1), bias=False)\n",
            "      (bn1): BatchNorm2d(256, eps=1e-05, momentum=0.1, affine=True, track_running_stats=True)\n",
            "      (relu): ReLU(inplace=True)\n",
            "      (conv2): Conv2d(256, 256, kernel_size=(3, 3), stride=(1, 1), padding=(1, 1), bias=False)\n",
            "      (bn2): BatchNorm2d(256, eps=1e-05, momentum=0.1, affine=True, track_running_stats=True)\n",
            "      (downsample): Sequential(\n",
            "        (0): Conv2d(128, 256, kernel_size=(1, 1), stride=(2, 2), bias=False)\n",
            "        (1): BatchNorm2d(256, eps=1e-05, momentum=0.1, affine=True, track_running_stats=True)\n",
            "      )\n",
            "    )\n",
            "    (1): BasicBlock(\n",
            "      (conv1): Conv2d(256, 256, kernel_size=(3, 3), stride=(1, 1), padding=(1, 1), bias=False)\n",
            "      (bn1): BatchNorm2d(256, eps=1e-05, momentum=0.1, affine=True, track_running_stats=True)\n",
            "      (relu): ReLU(inplace=True)\n",
            "      (conv2): Conv2d(256, 256, kernel_size=(3, 3), stride=(1, 1), padding=(1, 1), bias=False)\n",
            "      (bn2): BatchNorm2d(256, eps=1e-05, momentum=0.1, affine=True, track_running_stats=True)\n",
            "    )\n",
            "  )\n",
            "  (layer4): Sequential(\n",
            "    (0): BasicBlock(\n",
            "      (conv1): Conv2d(256, 512, kernel_size=(3, 3), stride=(2, 2), padding=(1, 1), bias=False)\n",
            "      (bn1): BatchNorm2d(512, eps=1e-05, momentum=0.1, affine=True, track_running_stats=True)\n",
            "      (relu): ReLU(inplace=True)\n",
            "      (conv2): Conv2d(512, 512, kernel_size=(3, 3), stride=(1, 1), padding=(1, 1), bias=False)\n",
            "      (bn2): BatchNorm2d(512, eps=1e-05, momentum=0.1, affine=True, track_running_stats=True)\n",
            "      (downsample): Sequential(\n",
            "        (0): Conv2d(256, 512, kernel_size=(1, 1), stride=(2, 2), bias=False)\n",
            "        (1): BatchNorm2d(512, eps=1e-05, momentum=0.1, affine=True, track_running_stats=True)\n",
            "      )\n",
            "    )\n",
            "    (1): BasicBlock(\n",
            "      (conv1): Conv2d(512, 512, kernel_size=(3, 3), stride=(1, 1), padding=(1, 1), bias=False)\n",
            "      (bn1): BatchNorm2d(512, eps=1e-05, momentum=0.1, affine=True, track_running_stats=True)\n",
            "      (relu): ReLU(inplace=True)\n",
            "      (conv2): Conv2d(512, 512, kernel_size=(3, 3), stride=(1, 1), padding=(1, 1), bias=False)\n",
            "      (bn2): BatchNorm2d(512, eps=1e-05, momentum=0.1, affine=True, track_running_stats=True)\n",
            "    )\n",
            "  )\n",
            "  (avgpool): AdaptiveAvgPool2d(output_size=(1, 1))\n",
            "  (fc): Linear(in_features=512, out_features=1000, bias=True)\n",
            ")\n"
          ],
          "name": "stdout"
        }
      ]
    },
    {
      "cell_type": "code",
      "metadata": {
        "id": "YFNKzZ-tBrwE",
        "colab_type": "code",
        "colab": {}
      },
      "source": [
        "for param in resnet.parameters():\n",
        "    param.requires_grad = False"
      ],
      "execution_count": 0,
      "outputs": []
    },
    {
      "cell_type": "code",
      "metadata": {
        "id": "V55zh4H4B4pW",
        "colab_type": "code",
        "colab": {}
      },
      "source": [
        "in_features = resnet.fc.in_features\n",
        "resnet.fc = nn.Linear(in_features, num_classes)"
      ],
      "execution_count": 0,
      "outputs": []
    },
    {
      "cell_type": "code",
      "metadata": {
        "id": "iXmNqloCCI8k",
        "colab_type": "code",
        "colab": {
          "base_uri": "https://localhost:8080/",
          "height": 51
        },
        "outputId": "d9cefdae-55ff-405d-bef9-e129f9d1d7ab"
      },
      "source": [
        "for param in resnet.parameters():\n",
        "    if param.requires_grad:\n",
        "        print(param.shape)"
      ],
      "execution_count": 28,
      "outputs": [
        {
          "output_type": "stream",
          "text": [
            "torch.Size([10, 512])\n",
            "torch.Size([10])\n"
          ],
          "name": "stdout"
        }
      ]
    },
    {
      "cell_type": "code",
      "metadata": {
        "id": "Ks2qMkyzCSyu",
        "colab_type": "code",
        "colab": {}
      },
      "source": [
        "resnet = resnet.to(device)\n",
        "loss_fn = nn.CrossEntropyLoss()\n",
        "opt = optim.SGD(resnet.parameters(), lr=0.01)"
      ],
      "execution_count": 0,
      "outputs": []
    },
    {
      "cell_type": "code",
      "metadata": {
        "id": "pND2U6u0CgXM",
        "colab_type": "code",
        "colab": {
          "base_uri": "https://localhost:8080/",
          "height": 1000
        },
        "outputId": "20a81a72-0bd5-4b95-96f4-fe78406a6c86"
      },
      "source": [
        "loss_epoch_arr = []\n",
        "epochs = 4\n",
        "min_loss = 100\n",
        "n_iters = np.ceil(50000/batch_size)\n",
        "\n",
        "for epoch in range(epochs):\n",
        "    for i, data in enumerate(trainloader, 0):\n",
        "\n",
        "        inputs, labels = data\n",
        "        inputs, labels = inputs.to(device), labels.to(device)\n",
        "\n",
        "        opt.zero_grad()\n",
        "\n",
        "        outputs = resnet(inputs)\n",
        "        loss = loss_fn(outputs, labels)\n",
        "        loss.backward()\n",
        "        opt.step()\n",
        "\n",
        "        if min_loss>loss.item():\n",
        "            min_loss = loss.item()\n",
        "            best_model = copy.deepcopy(resnet.state_dict())\n",
        "            print('Min Loss Now: {}'.format(min_loss))\n",
        "\n",
        "        if i%100 == 0:\n",
        "            print('Iteration: {}/{}, Loss: {}'.format(i, n_iters, loss.item()))\n",
        "\n",
        "        del inputs, labels, outputs\n",
        "        torch.cuda.empty_cache()\n",
        "\n",
        "    loss_epoch_arr.append(loss.item())\n",
        "\n",
        "    print('Epoch: %d/%d, Test acc: %0.2f, Train acc: %0.2f' % (\n",
        "    epoch, epochs, \n",
        "    evaluation(testloader, resnet), \n",
        "    evaluation(trainloader, resnet)))"
      ],
      "execution_count": 30,
      "outputs": [
        {
          "output_type": "stream",
          "text": [
            "Min Loss Now: 2.4334003925323486\n",
            "Iteration: 0/3125.0, Loss: 2.4334003925323486\n",
            "Min Loss Now: 2.2690889835357666\n",
            "Min Loss Now: 2.102245569229126\n",
            "Min Loss Now: 2.0055928230285645\n",
            "Min Loss Now: 1.9154349565505981\n",
            "Min Loss Now: 1.792054533958435\n",
            "Min Loss Now: 1.7692267894744873\n",
            "Min Loss Now: 1.7643744945526123\n",
            "Min Loss Now: 1.7306058406829834\n",
            "Min Loss Now: 1.7133450508117676\n",
            "Iteration: 100/3125.0, Loss: 1.7133450508117676\n",
            "Min Loss Now: 1.4978035688400269\n",
            "Min Loss Now: 1.4828221797943115\n",
            "Min Loss Now: 1.453417420387268\n",
            "Min Loss Now: 1.3101541996002197\n",
            "Min Loss Now: 1.2756361961364746\n",
            "Iteration: 200/3125.0, Loss: 1.543580174446106\n",
            "Min Loss Now: 1.1554237604141235\n",
            "Min Loss Now: 1.12406587600708\n",
            "Iteration: 300/3125.0, Loss: 1.2540925741195679\n",
            "Min Loss Now: 1.0029189586639404\n",
            "Min Loss Now: 0.9143033027648926\n",
            "Iteration: 400/3125.0, Loss: 1.7345631122589111\n",
            "Iteration: 500/3125.0, Loss: 1.3917460441589355\n",
            "Min Loss Now: 0.8652468323707581\n",
            "Iteration: 600/3125.0, Loss: 1.4910893440246582\n",
            "Min Loss Now: 0.8472030758857727\n",
            "Min Loss Now: 0.781486451625824\n",
            "Iteration: 700/3125.0, Loss: 1.0708751678466797\n",
            "Iteration: 800/3125.0, Loss: 1.1852779388427734\n",
            "Min Loss Now: 0.7792508006095886\n",
            "Iteration: 900/3125.0, Loss: 1.2090009450912476\n",
            "Min Loss Now: 0.7289204001426697\n",
            "Iteration: 1000/3125.0, Loss: 1.5503276586532593\n",
            "Iteration: 1100/3125.0, Loss: 1.2568837404251099\n",
            "Iteration: 1200/3125.0, Loss: 1.3247801065444946\n",
            "Min Loss Now: 0.6885191798210144\n",
            "Min Loss Now: 0.6588702201843262\n",
            "Iteration: 1300/3125.0, Loss: 1.3125966787338257\n",
            "Min Loss Now: 0.6416573524475098\n",
            "Iteration: 1400/3125.0, Loss: 0.6416573524475098\n",
            "Iteration: 1500/3125.0, Loss: 1.7163854837417603\n",
            "Iteration: 1600/3125.0, Loss: 1.4975063800811768\n",
            "Iteration: 1700/3125.0, Loss: 0.9596550464630127\n",
            "Iteration: 1800/3125.0, Loss: 1.2535948753356934\n",
            "Min Loss Now: 0.6128414273262024\n",
            "Iteration: 1900/3125.0, Loss: 1.795767903327942\n",
            "Min Loss Now: 0.6016920804977417\n",
            "Min Loss Now: 0.5954858064651489\n",
            "Iteration: 2000/3125.0, Loss: 1.2725005149841309\n",
            "Iteration: 2100/3125.0, Loss: 1.4108155965805054\n",
            "Iteration: 2200/3125.0, Loss: 1.151050329208374\n",
            "Iteration: 2300/3125.0, Loss: 1.1263608932495117\n",
            "Iteration: 2400/3125.0, Loss: 1.032833456993103\n",
            "Iteration: 2500/3125.0, Loss: 1.1287950277328491\n",
            "Iteration: 2600/3125.0, Loss: 0.7007939219474792\n",
            "Iteration: 2700/3125.0, Loss: 0.7661545276641846\n",
            "Min Loss Now: 0.557982861995697\n",
            "Iteration: 2800/3125.0, Loss: 0.8850814700126648\n",
            "Iteration: 2900/3125.0, Loss: 1.4500055313110352\n",
            "Iteration: 3000/3125.0, Loss: 0.8028761148452759\n",
            "Iteration: 3100/3125.0, Loss: 1.2888877391815186\n",
            "Epoch: 0/4, Test acc: 54.15, Train acc: 54.44\n",
            "Iteration: 0/3125.0, Loss: 0.7813653945922852\n",
            "Iteration: 100/3125.0, Loss: 1.2423409223556519\n",
            "Iteration: 200/3125.0, Loss: 1.4412890672683716\n",
            "Iteration: 300/3125.0, Loss: 1.2065149545669556\n",
            "Iteration: 400/3125.0, Loss: 1.1242916584014893\n",
            "Iteration: 500/3125.0, Loss: 1.447892427444458\n",
            "Iteration: 600/3125.0, Loss: 1.6641514301300049\n",
            "Iteration: 700/3125.0, Loss: 1.4271494150161743\n",
            "Iteration: 800/3125.0, Loss: 0.9049893617630005\n",
            "Iteration: 900/3125.0, Loss: 1.1356565952301025\n",
            "Iteration: 1000/3125.0, Loss: 1.6605043411254883\n",
            "Iteration: 1100/3125.0, Loss: 1.5839989185333252\n",
            "Iteration: 1200/3125.0, Loss: 1.4072515964508057\n",
            "Min Loss Now: 0.5211544036865234\n",
            "Iteration: 1300/3125.0, Loss: 1.5994062423706055\n",
            "Iteration: 1400/3125.0, Loss: 1.47847580909729\n",
            "Iteration: 1500/3125.0, Loss: 1.3888227939605713\n",
            "Iteration: 1600/3125.0, Loss: 1.2999135255813599\n",
            "Iteration: 1700/3125.0, Loss: 1.441335916519165\n",
            "Iteration: 1800/3125.0, Loss: 1.7093470096588135\n",
            "Iteration: 1900/3125.0, Loss: 1.0872291326522827\n",
            "Iteration: 2000/3125.0, Loss: 0.8285356163978577\n",
            "Iteration: 2100/3125.0, Loss: 1.1407688856124878\n",
            "Iteration: 2200/3125.0, Loss: 1.531955599784851\n",
            "Iteration: 2300/3125.0, Loss: 1.25886869430542\n",
            "Min Loss Now: 0.483757883310318\n",
            "Iteration: 2400/3125.0, Loss: 1.1429730653762817\n",
            "Min Loss Now: 0.4735778570175171\n",
            "Iteration: 2500/3125.0, Loss: 1.0354995727539062\n",
            "Iteration: 2600/3125.0, Loss: 1.5057975053787231\n",
            "Iteration: 2700/3125.0, Loss: 1.0468415021896362\n",
            "Iteration: 2800/3125.0, Loss: 1.215657114982605\n",
            "Iteration: 2900/3125.0, Loss: 1.3894178867340088\n",
            "Iteration: 3000/3125.0, Loss: 0.8441221117973328\n",
            "Iteration: 3100/3125.0, Loss: 1.7892507314682007\n",
            "Epoch: 1/4, Test acc: 56.15, Train acc: 56.57\n",
            "Iteration: 0/3125.0, Loss: 1.3852211236953735\n",
            "Iteration: 100/3125.0, Loss: 1.2971725463867188\n",
            "Iteration: 200/3125.0, Loss: 0.8995035290718079\n",
            "Iteration: 300/3125.0, Loss: 1.1059993505477905\n",
            "Min Loss Now: 0.461479127407074\n",
            "Iteration: 400/3125.0, Loss: 0.9328086376190186\n",
            "Iteration: 500/3125.0, Loss: 1.0532114505767822\n",
            "Iteration: 600/3125.0, Loss: 1.4676676988601685\n",
            "Iteration: 700/3125.0, Loss: 1.3303368091583252\n",
            "Iteration: 800/3125.0, Loss: 1.5024770498275757\n",
            "Iteration: 900/3125.0, Loss: 1.742423415184021\n",
            "Iteration: 1000/3125.0, Loss: 1.817387342453003\n",
            "Iteration: 1100/3125.0, Loss: 1.3507003784179688\n",
            "Iteration: 1200/3125.0, Loss: 1.059512734413147\n",
            "Iteration: 1300/3125.0, Loss: 0.6280074119567871\n",
            "Iteration: 1400/3125.0, Loss: 1.3508923053741455\n",
            "Iteration: 1500/3125.0, Loss: 1.1205600500106812\n",
            "Iteration: 1600/3125.0, Loss: 1.6742660999298096\n",
            "Iteration: 1700/3125.0, Loss: 0.7646918892860413\n",
            "Iteration: 1800/3125.0, Loss: 1.0583851337432861\n",
            "Iteration: 1900/3125.0, Loss: 1.518079161643982\n",
            "Iteration: 2000/3125.0, Loss: 1.4129496812820435\n",
            "Min Loss Now: 0.37328529357910156\n",
            "Iteration: 2100/3125.0, Loss: 1.2606192827224731\n",
            "Iteration: 2200/3125.0, Loss: 0.8680770397186279\n",
            "Iteration: 2300/3125.0, Loss: 1.0801302194595337\n",
            "Iteration: 2400/3125.0, Loss: 1.3271442651748657\n",
            "Iteration: 2500/3125.0, Loss: 1.5327343940734863\n",
            "Iteration: 2600/3125.0, Loss: 0.8062053918838501\n",
            "Iteration: 2700/3125.0, Loss: 1.4586002826690674\n",
            "Iteration: 2800/3125.0, Loss: 0.8548513650894165\n",
            "Iteration: 2900/3125.0, Loss: 0.8941607475280762\n",
            "Iteration: 3000/3125.0, Loss: 1.271212100982666\n",
            "Iteration: 3100/3125.0, Loss: 1.321291208267212\n",
            "Epoch: 2/4, Test acc: 57.42, Train acc: 58.39\n",
            "Iteration: 0/3125.0, Loss: 1.3013858795166016\n",
            "Iteration: 100/3125.0, Loss: 1.1531093120574951\n",
            "Iteration: 200/3125.0, Loss: 1.0368387699127197\n",
            "Iteration: 300/3125.0, Loss: 1.2322988510131836\n",
            "Iteration: 400/3125.0, Loss: 1.1349225044250488\n",
            "Iteration: 500/3125.0, Loss: 1.014631986618042\n",
            "Iteration: 600/3125.0, Loss: 0.7345420718193054\n",
            "Iteration: 700/3125.0, Loss: 1.1118837594985962\n",
            "Iteration: 800/3125.0, Loss: 1.2252389192581177\n",
            "Iteration: 900/3125.0, Loss: 1.533665418624878\n",
            "Iteration: 1000/3125.0, Loss: 2.023451566696167\n",
            "Iteration: 1100/3125.0, Loss: 1.2816367149353027\n",
            "Iteration: 1200/3125.0, Loss: 0.9379103183746338\n",
            "Iteration: 1300/3125.0, Loss: 1.5174596309661865\n",
            "Iteration: 1400/3125.0, Loss: 1.558039665222168\n",
            "Iteration: 1500/3125.0, Loss: 1.987935185432434\n",
            "Iteration: 1600/3125.0, Loss: 1.2756965160369873\n",
            "Iteration: 1700/3125.0, Loss: 1.518989086151123\n",
            "Iteration: 1800/3125.0, Loss: 1.4841758012771606\n",
            "Iteration: 1900/3125.0, Loss: 1.2579171657562256\n",
            "Iteration: 2000/3125.0, Loss: 1.1335843801498413\n",
            "Iteration: 2100/3125.0, Loss: 1.2775150537490845\n",
            "Iteration: 2200/3125.0, Loss: 1.4938210248947144\n",
            "Iteration: 2300/3125.0, Loss: 1.2407699823379517\n",
            "Iteration: 2400/3125.0, Loss: 1.2015925645828247\n",
            "Iteration: 2500/3125.0, Loss: 1.4890302419662476\n",
            "Iteration: 2600/3125.0, Loss: 1.5389554500579834\n",
            "Iteration: 2700/3125.0, Loss: 1.3334711790084839\n",
            "Iteration: 2800/3125.0, Loss: 1.4647929668426514\n",
            "Iteration: 2900/3125.0, Loss: 1.850405216217041\n",
            "Iteration: 3000/3125.0, Loss: 1.075581431388855\n",
            "Iteration: 3100/3125.0, Loss: 1.200201392173767\n",
            "Epoch: 3/4, Test acc: 56.97, Train acc: 57.64\n"
          ],
          "name": "stdout"
        }
      ]
    },
    {
      "cell_type": "code",
      "metadata": {
        "id": "PYOoavFeEN_-",
        "colab_type": "code",
        "colab": {}
      },
      "source": [
        "resnet.load_state_dict(best_model)\n",
        "print('Test Acc: {}, Train Acc: {}'.format(evaluation(testloader, resnet), evaluation(trainloader, resnet)))"
      ],
      "execution_count": 0,
      "outputs": []
    },
    {
      "cell_type": "markdown",
      "metadata": {
        "id": "mbY-c0KwEe_k",
        "colab_type": "text"
      },
      "source": [
        "# InceptionNet / GoogleNet"
      ]
    },
    {
      "cell_type": "code",
      "metadata": {
        "id": "T0N6CkrwEbnr",
        "colab_type": "code",
        "colab": {}
      },
      "source": [
        "inception = models.inception_v3(pretrained=True)"
      ],
      "execution_count": 0,
      "outputs": []
    },
    {
      "cell_type": "code",
      "metadata": {
        "id": "oCPqsF9BE0bf",
        "colab_type": "code",
        "colab": {}
      },
      "source": [
        "print(inception)"
      ],
      "execution_count": 0,
      "outputs": []
    },
    {
      "cell_type": "code",
      "metadata": {
        "id": "PdmlxGf3E3bs",
        "colab_type": "code",
        "colab": {}
      },
      "source": [
        "for param in inception.parameters():\n",
        "    param.requires_grad = False"
      ],
      "execution_count": 0,
      "outputs": []
    },
    {
      "cell_type": "code",
      "metadata": {
        "id": "O6KZ_V7WE-AG",
        "colab_type": "code",
        "colab": {}
      },
      "source": [
        "aux_in_features = inception.AuxLogits.fc.in_features\n",
        "inception.AuxLogits.fc = nn.Linear(aux_in_features, num_classes)"
      ],
      "execution_count": 0,
      "outputs": []
    },
    {
      "cell_type": "code",
      "metadata": {
        "id": "-fNq58PeFR0w",
        "colab_type": "code",
        "colab": {}
      },
      "source": [
        "in_features = inception.fc.in_features\n",
        "inception.fc = nn.Linear(in_features, num_classes)"
      ],
      "execution_count": 0,
      "outputs": []
    },
    {
      "cell_type": "code",
      "metadata": {
        "id": "TqwvRvYJFdtg",
        "colab_type": "code",
        "colab": {}
      },
      "source": [
        "for param in inception.parameters():\n",
        "    if param.requires_grad:\n",
        "        print(param.shape)"
      ],
      "execution_count": 0,
      "outputs": []
    },
    {
      "cell_type": "code",
      "metadata": {
        "id": "THYmVArUF1R3",
        "colab_type": "code",
        "colab": {}
      },
      "source": [
        "transforms_train = transforms.Compose([\n",
        "    transforms.RandomResizedCrop(299),\n",
        "    transforms.ToTensor(),\n",
        "    transforms.Normalize((0.5,0.5,0.5), (0.5,0.5,0.5))\n",
        "])\n",
        "\n",
        "transforms_test = transforms.Compose([\n",
        "    transforms.RandomResizedCrop(299),\n",
        "    transforms.ToTensor(),\n",
        "    transforms.Normalize((0.5,0.5,0.5), (0.5,0.5,0.5))\n",
        "])"
      ],
      "execution_count": 0,
      "outputs": []
    },
    {
      "cell_type": "code",
      "metadata": {
        "id": "6TpwBmztF8v-",
        "colab_type": "code",
        "colab": {}
      },
      "source": [
        "trainset = torchvision.datasets.CIFAR10(root='./data', train=True, download=True, transform=transforms_train)\n",
        "testset = torchvision.datasets.CIFAR10(root='./data', train=False, download=True, transform=transforms_test)"
      ],
      "execution_count": 0,
      "outputs": []
    },
    {
      "cell_type": "code",
      "metadata": {
        "id": "S7AwettlGCCj",
        "colab_type": "code",
        "colab": {}
      },
      "source": [
        "batch_size = 16\n",
        "\n",
        "trainloader = torch.utils.data.DataLoader(trainset, batch_size=batch_size, shuffle=True)\n",
        "testloader = torch.utils.data.DataLoader(testset, batch_size=batch_size, shuffle=False)"
      ],
      "execution_count": 0,
      "outputs": []
    },
    {
      "cell_type": "code",
      "metadata": {
        "id": "bS2aKrjwGLAG",
        "colab_type": "code",
        "colab": {}
      },
      "source": [
        "inception = inception.to(device)\n",
        "loss_fn = nn.CrossEntropyLoss()\n",
        "opt = optim.SGD(inception.parameters(), lr=0.01)"
      ],
      "execution_count": 0,
      "outputs": []
    },
    {
      "cell_type": "code",
      "metadata": {
        "id": "G4eYTJ3ZGcyd",
        "colab_type": "code",
        "colab": {}
      },
      "source": [
        "def evaluation_inception(dataloader, model):\n",
        "    total, correct = 0,0\n",
        "    for data in dataloader:\n",
        "        inputs, labels = data\n",
        "        inputs, labels = inputs.to(device), labels.to(device)\n",
        "        outputs, aux_outputs = model(inputs)\n",
        "        _, pred = torch.max(outputs.data, 1)\n",
        "        total += labels.size(0)\n",
        "        correct += (pred==labels).sum().item()\n",
        "    return 100*correct/total"
      ],
      "execution_count": 0,
      "outputs": []
    },
    {
      "cell_type": "code",
      "metadata": {
        "id": "hUw9MTTXHFkC",
        "colab_type": "code",
        "colab": {}
      },
      "source": [
        "loss_epoch_arr = []\n",
        "epochs = 4\n",
        "min_loss = 100\n",
        "n_iters = np.ceil(50000/batch_size)\n",
        "\n",
        "for epoch in range(epochs):\n",
        "    for i, data in enumerate(trainloader, 0):\n",
        "\n",
        "        inputs, labels = data\n",
        "        inputs, labels = inputs.to(device), labels.to(device)\n",
        "\n",
        "        opt.zero_grad()\n",
        "\n",
        "        outputs, aux_outputs = inception(inputs)\n",
        "        loss = loss_fn(outputs, labels) + 0.3 * loss_fn(aux_outputs, labels)\n",
        "        loss.backward()\n",
        "        opt.step()\n",
        "\n",
        "        if min_loss>loss.item():\n",
        "            min_loss = loss.item()\n",
        "            best_model = copy.deepcopy(inception.state_dict())\n",
        "            print('Min Loss Now: {}'.format(min_loss))\n",
        "\n",
        "        if i%100 == 0:\n",
        "            print('Iteration: {}/{}, Loss: {}'.format(i, n_iters, loss.item()))\n",
        "\n",
        "        del inputs, labels, outputs\n",
        "        torch.cuda.empty_cache()\n",
        "\n",
        "    loss_epoch_arr.append(loss.item())\n",
        "\n",
        "    print('Epoch: %d/%d, Test acc: %0.2f, Train acc: %0.2f' % (\n",
        "        epoch, epochs, \n",
        "        evaluation_inception(testloader, inception), \n",
        "        evaluation_inception(trainloader, inception)))"
      ],
      "execution_count": 0,
      "outputs": []
    },
    {
      "cell_type": "code",
      "metadata": {
        "id": "YelOiW3FHo35",
        "colab_type": "code",
        "colab": {}
      },
      "source": [
        "inception.load_state_dict(best_model)\n",
        "print('Test Acc: {}, Train Acc: {}'.format(evaluation_inception(testloader, inception), evaluation_inception(trainloader, inception)))"
      ],
      "execution_count": 0,
      "outputs": []
    },
    {
      "cell_type": "code",
      "metadata": {
        "id": "61Tx2vMVIuQ9",
        "colab_type": "code",
        "colab": {}
      },
      "source": [
        ""
      ],
      "execution_count": 0,
      "outputs": []
    }
  ]
}